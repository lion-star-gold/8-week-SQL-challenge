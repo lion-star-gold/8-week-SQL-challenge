{
 "cells": [
  {
   "cell_type": "markdown",
   "id": "6d7d756d",
   "metadata": {},
   "source": [
    "## <a href = 'https://8weeksqlchallenge.com/case-study-2/'>Pizza Runner</a>\n",
    "\n",
    "#### Introduction\n",
    "\n",
    "<img src = 'https://8weeksqlchallenge.com/images/case-study-designs/2.png'>\n",
    "\n",
    "<br>\n",
    "\n",
    "Did you know that over 115 million kilograms of pizza is consumed daily worldwide??? (Well according to Wikipedia anyway…)\n",
    "\n",
    "Danny was scrolling through his Instagram feed when something really caught his eye - “80s Retro Styling and Pizza Is The Future!”\n",
    "\n",
    "Danny was sold on the idea, but he knew that pizza alone was not going to help him get seed funding to expand his new Pizza Empire - so he had one more genius idea to combine with it - he was going to Uberize it - and so Pizza Runner was launched!\n",
    "\n",
    "Danny started by recruiting “runners” to deliver fresh pizza from Pizza Runner Headquarters (otherwise known as Danny’s house) and also maxed out his credit card to pay freelance developers to build a mobile app to accept orders from customers.\n",
    "\n",
    "#### Case Study Questions - Part B\n",
    "\n",
    "1. How many runners signed up for each 1 week period? (i.e. week starts 2021-01-01)\n",
    "2. What was the average time in minutes it took for each runner to arrive at the Pizza Runner HQ to pickup the order?\n",
    "3. Is there any relationship between the number of pizzas and how long the order takes to prepare?\n",
    "4. What was the average distance travelled for each customer?\n",
    "5. What was the difference between the longest and shortest delivery times for all orders?\n",
    "6. What was the average speed for each runner for each delivery and do you notice any trend for these values?\n",
    "7. What is the successful delivery percentage for each runner?"
   ]
  },
  {
   "cell_type": "code",
   "execution_count": 1,
   "id": "cb27de47",
   "metadata": {},
   "outputs": [],
   "source": [
    "import sql\n",
    "from sqlalchemy import create_engine\n",
    "\n",
    "\n",
    "%load_ext sql\n",
    "%sql sqlite://"
   ]
  },
  {
   "cell_type": "markdown",
   "id": "4ec34d33",
   "metadata": {},
   "source": [
    "Tables as per link above"
   ]
  },
  {
   "cell_type": "code",
   "execution_count": 2,
   "id": "e290963b",
   "metadata": {},
   "outputs": [
    {
     "name": "stdout",
     "output_type": "stream",
     "text": [
      " * sqlite://\n",
      "Done.\n",
      "Done.\n",
      "10 rows affected.\n"
     ]
    },
    {
     "data": {
      "text/plain": [
       "[]"
      ]
     },
     "execution_count": 2,
     "metadata": {},
     "output_type": "execute_result"
    }
   ],
   "source": [
    "%%sql\n",
    "DROP TABLE IF EXISTS runner_orders;\n",
    "CREATE TABLE runner_orders(\"order_id\" INTEGER,\n",
    "                           \"runner_id\" INTEGER,\n",
    "                           \"pickup_time\" VARCHAR(19),\n",
    "                           \"distance\" VARCHAR(7),\n",
    "                           \"duration\" VARCHAR(10),\n",
    "                           \"cancellation\" VARCHAR(23)\n",
    ");\n",
    "\n",
    "INSERT INTO runner_orders\n",
    "    (\"order_id\", \"runner_id\", \"pickup_time\", \"distance\", \"duration\", \"cancellation\")\n",
    "VALUES\n",
    "    (1, 1, \"2021-01-01 18:15:34\", \"20km\", \"32 minutes\", \"\"),\n",
    "    (2, 1, \"2021-01-01 19:10:54\", \"20km\", \"27 minutes\", \"\"),\n",
    "    (3, 1, \"2021-01-03 00:12:37\", \"13.4km\", \"20 mins\", NULL),\n",
    "    (4, 2, \"2021-01-04 13:53:03\", \"23.4\", \"40\", NULL),\n",
    "    (5, 3, \"2021-01-08 21:10:57\", \"10\", \"15\", NULL),\n",
    "    (6, 3, null, null, null, \"Restaurant Cancellation\"),\n",
    "    (7, 2, \"2020-01-08 21:30:45\", \"25km\", \"25mins\", null),\n",
    "    (8, 2, \"2020-01-10 00:15:02\", \"23.4 km\", \"15 minute\", null),\n",
    "    (9, 2, null, null, null, \"Customer Cancellation\"),\n",
    "    (10, 1, \"2020-01-11 18:50:20\", \"10km\", \"10minutes\", null);"
   ]
  },
  {
   "cell_type": "code",
   "execution_count": 21,
   "id": "362d896c",
   "metadata": {},
   "outputs": [
    {
     "name": "stdout",
     "output_type": "stream",
     "text": [
      " * sqlite://\n",
      "Done.\n",
      "Done.\n",
      "4 rows affected.\n"
     ]
    },
    {
     "data": {
      "text/plain": [
       "[]"
      ]
     },
     "execution_count": 21,
     "metadata": {},
     "output_type": "execute_result"
    }
   ],
   "source": [
    "%%sql\n",
    "DROP TABLE IF EXISTS runners;\n",
    "CREATE TABLE runners(\"runner_id\" INTEGER,\n",
    "                     \"registration_date\" DATE);\n",
    "INSERT INTO runners\n",
    "    (\"runner_id\", \"registration_date\")\n",
    "VALUES\n",
    "    (1, '2021-01-01'),\n",
    "    (2, '2021-01-03'),\n",
    "    (3, '2021-01-08'),\n",
    "    (4, '2021-01-15');"
   ]
  },
  {
   "cell_type": "code",
   "execution_count": 4,
   "id": "642ac828",
   "metadata": {},
   "outputs": [
    {
     "name": "stdout",
     "output_type": "stream",
     "text": [
      " * sqlite://\n",
      "Done.\n",
      "Done.\n",
      "14 rows affected.\n"
     ]
    },
    {
     "data": {
      "text/plain": [
       "[]"
      ]
     },
     "execution_count": 4,
     "metadata": {},
     "output_type": "execute_result"
    }
   ],
   "source": [
    "%%sql\n",
    "DROP TABLE IF EXISTS customer_orders;\n",
    "CREATE TABLE customer_orders(\"order_id\" INTEGER,\n",
    "                             \"customer_id\" INTEGER,\n",
    "                             \"pizza_id\" INTEGER,\n",
    "                             \"exclusions\" VARCHAR(4),\n",
    "                             \"extras\" VARCHAR(4),\n",
    "                             \"order_time\" TIMESTAMP);\n",
    "INSERT INTO customer_orders\n",
    "    (\"order_id\", \"customer_id\", \"pizza_id\", \"exclusions\", \"extras\", \"order_time\")\n",
    "VALUES\n",
    "    (1,  101, 1, \" \", \" \", \"2021-01-01 18:05:02\"),\n",
    "    (2,  101, 1, \" \", \" \", \"2021-01-01 19:00:52\"),\n",
    "    (3,  102, 1, \" \", \" \", \"2021-01-02 23:51:23\"),\n",
    "    (3,  102, 2, \" \", null, \"2021-01-02 23:51:23\"),\n",
    "    (4,  103, 1, \"4\", \" \", \"2021-01-04 13:23:46\"),\n",
    "    (4,  103, 1, \"4\", \" \", \"2021-01-04 13:23:46\"),\n",
    "    (4,  103, 2, \"4\", \" \", \"2021-01-04 13:23:46\"),\n",
    "    (5,  104, 1, null, 1, \"2021-01-08 21:00:29\"),\n",
    "    (6,  101, 2, null, null, \"2021-01-08 21:03:13\"),\n",
    "    (7,  105, 2, null, 1, \"2021-01-08 21:20:29\"),\n",
    "    (8,  102, 1, null, null, \"2021-01-09 23:54:33\"),\n",
    "    (9,  103, 1, \"4\", \"1, 5\", \"2021-01-10 11:22:59\"),\n",
    "    (10, 104, 1, null, null, \"2021-01-11 18:34:49\"),\n",
    "    (10, 104, 1, \"2, 6\", \"1, 4\", \"2021-01-11 18:34:49\");"
   ]
  },
  {
   "cell_type": "code",
   "execution_count": 5,
   "id": "6a0e97da",
   "metadata": {},
   "outputs": [
    {
     "name": "stdout",
     "output_type": "stream",
     "text": [
      " * sqlite://\n",
      "Done.\n",
      "Done.\n",
      "2 rows affected.\n"
     ]
    },
    {
     "data": {
      "text/plain": [
       "[]"
      ]
     },
     "execution_count": 5,
     "metadata": {},
     "output_type": "execute_result"
    }
   ],
   "source": [
    "%%sql\n",
    "DROP TABLE IF EXISTS pizza_names;\n",
    "CREATE TABLE pizza_names (\"pizza_id\" INTEGER,\n",
    "                          \"pizza_name\" TEXT);\n",
    "INSERT INTO pizza_names (\"pizza_id\", \"pizza_name\")\n",
    "VALUES \n",
    "    (1, 'Meatlovers'),\n",
    "    (2, 'Vegetarian');"
   ]
  },
  {
   "cell_type": "code",
   "execution_count": 6,
   "id": "c04b2a7c",
   "metadata": {},
   "outputs": [
    {
     "name": "stdout",
     "output_type": "stream",
     "text": [
      " * sqlite://\n",
      "Done.\n",
      "Done.\n",
      "2 rows affected.\n"
     ]
    },
    {
     "data": {
      "text/plain": [
       "[]"
      ]
     },
     "execution_count": 6,
     "metadata": {},
     "output_type": "execute_result"
    }
   ],
   "source": [
    "%%sql\n",
    "DROP TABLE IF EXISTS pizza_recipes;\n",
    "CREATE TABLE pizza_recipes(\"pizza_id\" INTEGER,\n",
    "                           \"toppings\" TEXT);\n",
    "INSERT INTO pizza_recipes(\"pizza_id\", \"toppings\")\n",
    "VALUES\n",
    "    (1, \"1, 2, 3, 4, 5, 6, 8, 10\"),\n",
    "    (2, \"4, 6, 7, 9, 11, 12\");"
   ]
  },
  {
   "cell_type": "code",
   "execution_count": 7,
   "id": "81a313e5",
   "metadata": {},
   "outputs": [
    {
     "name": "stdout",
     "output_type": "stream",
     "text": [
      " * sqlite://\n",
      "Done.\n",
      "Done.\n",
      "12 rows affected.\n"
     ]
    },
    {
     "data": {
      "text/plain": [
       "[]"
      ]
     },
     "execution_count": 7,
     "metadata": {},
     "output_type": "execute_result"
    }
   ],
   "source": [
    "%%sql\n",
    "DROP TABLE IF EXISTS pizza_toppings;\n",
    "CREATE TABLE pizza_toppings(\"topping_id\" INTEGER,\n",
    "                            \"topping_name\" TEXT);\n",
    "INSERT INTO pizza_toppings(\"topping_id\", \"topping_name\")\n",
    "VALUES\n",
    "    (1, \"Bacon\"),\n",
    "    (2, \"BBQ Sauce\"),\n",
    "    (3, \"Beef\"),\n",
    "    (4, \"Cheese\"),\n",
    "    (5, \"Chicken\"),\n",
    "    (6, \"Mushrooms\"),\n",
    "    (7, \"Onions\"),\n",
    "    (8, \"Pepperoni\"),\n",
    "    (9, \"Peppers\"),\n",
    "    (10, \"Salami\"),\n",
    "    (11, \"Tomatoes\"),\n",
    "    (12, \"Tomato Sauce\");"
   ]
  },
  {
   "cell_type": "markdown",
   "id": "bb94b5f8",
   "metadata": {},
   "source": [
    "1. How many runners signed up for each 1 week period? (i.e. week starts 2021-01-01)"
   ]
  },
  {
   "cell_type": "code",
   "execution_count": 34,
   "id": "6c86e97f",
   "metadata": {},
   "outputs": [
    {
     "name": "stdout",
     "output_type": "stream",
     "text": [
      " * sqlite://\n",
      "Done.\n"
     ]
    },
    {
     "data": {
      "text/html": [
       "<table>\n",
       "    <tr>\n",
       "        <th>Week_number</th>\n",
       "        <th>signups_this_week</th>\n",
       "    </tr>\n",
       "    <tr>\n",
       "        <td>00</td>\n",
       "        <td>2</td>\n",
       "    </tr>\n",
       "    <tr>\n",
       "        <td>01</td>\n",
       "        <td>1</td>\n",
       "    </tr>\n",
       "    <tr>\n",
       "        <td>02</td>\n",
       "        <td>1</td>\n",
       "    </tr>\n",
       "</table>"
      ],
      "text/plain": [
       "[('00', 2), ('01', 1), ('02', 1)]"
      ]
     },
     "execution_count": 34,
     "metadata": {},
     "output_type": "execute_result"
    }
   ],
   "source": [
    "%%sql\n",
    "\n",
    "SELECT \n",
    "    strftime('%W', registration_date) AS Week_number,\n",
    "    COUNT(runner_id) AS signups_this_week\n",
    "FROM runners \n",
    "GROUP BY Week_number;"
   ]
  },
  {
   "cell_type": "markdown",
   "id": "eeb470ec",
   "metadata": {},
   "source": [
    "2. What was the average time in minutes it took for each runner to arrive at the Pizza Runner HQ to pickup the order?\n",
    "\n",
    "pickup time - order time."
   ]
  },
  {
   "cell_type": "code",
   "execution_count": null,
   "id": "78d5494d",
   "metadata": {},
   "outputs": [],
   "source": [
    "%%sql\n",
    "\n",
    "SELECT "
   ]
  }
 ],
 "metadata": {
  "kernelspec": {
   "display_name": "Python 3 (ipykernel)",
   "language": "python",
   "name": "python3"
  },
  "language_info": {
   "codemirror_mode": {
    "name": "ipython",
    "version": 3
   },
   "file_extension": ".py",
   "mimetype": "text/x-python",
   "name": "python",
   "nbconvert_exporter": "python",
   "pygments_lexer": "ipython3",
   "version": "3.9.7"
  }
 },
 "nbformat": 4,
 "nbformat_minor": 5
}
