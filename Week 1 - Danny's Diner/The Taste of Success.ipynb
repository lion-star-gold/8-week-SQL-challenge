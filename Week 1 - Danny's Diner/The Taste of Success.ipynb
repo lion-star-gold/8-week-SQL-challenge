{
 "cells": [
  {
   "cell_type": "markdown",
   "id": "d4ca1097",
   "metadata": {},
   "source": [
    "## <a href = 'https://8weeksqlchallenge.com/case-study-1/'>Danny's Diner</a>\n",
    "\n",
    "#### Introduction\n",
    "\n",
    "<img src = 'https://8weeksqlchallenge.com/images/case-study-designs/1.png'>\n",
    "\n",
    "<br>\n",
    "\n",
    "Danny seriously loves Japanese food so in the beginning of 2021, he decides to embark upon a risky venture and opens up a cute little restaurant that sells his 3 favourite foods: sushi, curry and ramen.\n",
    "\n",
    "Danny’s Diner is in need of your assistance to help the restaurant stay afloat - the restaurant has captured some very basic data from their few months of operation but have no idea how to use their data to help them run the business.\n",
    "\n",
    "#### Case Study Questions\n",
    "Each of the following case study questions can be answered using a single SQL statement:\n",
    "\n",
    "1. What is the total amount each customer spent at the restaurant?\n",
    "2.  How many days has each customer visited the restaurant?\n",
    "3. What was the first item from the menu purchased by each customer?\n",
    "4. What is the most purchased item on the menu and how many times was it purchased by all customers?\n",
    "5. Which item was the most popular for each customer?\n",
    "6. Which item was purchased first by the customer after they became a member?\n",
    "7. Which item was purchased just before the customer became a member?\n",
    "8. What is the total items and amount spent for each member before they became a member?\n",
    "9. If each $1 spent equates to 10 points and sushi has a 2x points multiplier - how many points would each customer have?\n",
    "10. In the first week after a customer joins the program (including their join date) they earn 2x points on all items, not just sushi - how many points do customer A and B have at the end of January?\n",
    "\n",
    "#### Startup\n",
    "Install SQL extension to Jupyter notebook + import libraries."
   ]
  },
  {
   "cell_type": "code",
   "execution_count": 1,
   "id": "b8b05082",
   "metadata": {},
   "outputs": [
    {
     "name": "stdout",
     "output_type": "stream",
     "text": [
      "Collecting ipython-sql\n",
      "  Downloading ipython_sql-0.4.0-py3-none-any.whl (19 kB)\n",
      "Requirement already satisfied: ipython-genutils>=0.1.0 in c:\\users\\chloe\\anaconda3\\lib\\site-packages (from ipython-sql) (0.2.0)\n",
      "Collecting sqlparse\n",
      "  Downloading sqlparse-0.4.2-py3-none-any.whl (42 kB)\n",
      "Collecting prettytable<1\n",
      "  Downloading prettytable-0.7.2.zip (28 kB)\n",
      "Requirement already satisfied: six in c:\\users\\chloe\\anaconda3\\lib\\site-packages (from ipython-sql) (1.16.0)\n",
      "Requirement already satisfied: sqlalchemy>=0.6.7 in c:\\users\\chloe\\anaconda3\\lib\\site-packages (from ipython-sql) (1.4.22)\n",
      "Requirement already satisfied: ipython>=1.0 in c:\\users\\chloe\\anaconda3\\lib\\site-packages (from ipython-sql) (7.29.0)\n",
      "Requirement already satisfied: traitlets>=4.2 in c:\\users\\chloe\\anaconda3\\lib\\site-packages (from ipython>=1.0->ipython-sql) (5.1.0)\n",
      "Requirement already satisfied: prompt-toolkit!=3.0.0,!=3.0.1,<3.1.0,>=2.0.0 in c:\\users\\chloe\\anaconda3\\lib\\site-packages (from ipython>=1.0->ipython-sql) (3.0.20)\n",
      "Requirement already satisfied: setuptools>=18.5 in c:\\users\\chloe\\anaconda3\\lib\\site-packages (from ipython>=1.0->ipython-sql) (58.0.4)\n",
      "Requirement already satisfied: pygments in c:\\users\\chloe\\anaconda3\\lib\\site-packages (from ipython>=1.0->ipython-sql) (2.10.0)\n",
      "Requirement already satisfied: colorama in c:\\users\\chloe\\anaconda3\\lib\\site-packages (from ipython>=1.0->ipython-sql) (0.4.4)\n",
      "Requirement already satisfied: matplotlib-inline in c:\\users\\chloe\\anaconda3\\lib\\site-packages (from ipython>=1.0->ipython-sql) (0.1.2)\n",
      "Requirement already satisfied: decorator in c:\\users\\chloe\\anaconda3\\lib\\site-packages (from ipython>=1.0->ipython-sql) (5.1.0)\n",
      "Requirement already satisfied: pickleshare in c:\\users\\chloe\\anaconda3\\lib\\site-packages (from ipython>=1.0->ipython-sql) (0.7.5)\n",
      "Requirement already satisfied: jedi>=0.16 in c:\\users\\chloe\\anaconda3\\lib\\site-packages (from ipython>=1.0->ipython-sql) (0.18.0)\n",
      "Requirement already satisfied: backcall in c:\\users\\chloe\\anaconda3\\lib\\site-packages (from ipython>=1.0->ipython-sql) (0.2.0)\n",
      "Requirement already satisfied: parso<0.9.0,>=0.8.0 in c:\\users\\chloe\\anaconda3\\lib\\site-packages (from jedi>=0.16->ipython>=1.0->ipython-sql) (0.8.2)\n",
      "Requirement already satisfied: wcwidth in c:\\users\\chloe\\anaconda3\\lib\\site-packages (from prompt-toolkit!=3.0.0,!=3.0.1,<3.1.0,>=2.0.0->ipython>=1.0->ipython-sql) (0.2.5)\n",
      "Requirement already satisfied: greenlet!=0.4.17 in c:\\users\\chloe\\anaconda3\\lib\\site-packages (from sqlalchemy>=0.6.7->ipython-sql) (1.1.1)\n",
      "Building wheels for collected packages: prettytable\n",
      "  Building wheel for prettytable (setup.py): started\n",
      "  Building wheel for prettytable (setup.py): finished with status 'done'\n",
      "  Created wheel for prettytable: filename=prettytable-0.7.2-py3-none-any.whl size=13714 sha256=8d4355121eb525c82e9c8bd3f49ec97efcddb02e99b85dd2a83c52ffe46ec5fa\n",
      "  Stored in directory: c:\\users\\chloe\\appdata\\local\\pip\\cache\\wheels\\75\\f7\\28\\77a076f1fa8cbeda61aca712815d04d7a32435f04a26a2dd7b\n",
      "Successfully built prettytable\n",
      "Installing collected packages: sqlparse, prettytable, ipython-sql\n",
      "Successfully installed ipython-sql-0.4.0 prettytable-0.7.2 sqlparse-0.4.2\n"
     ]
    }
   ],
   "source": [
    "#!pip install ipython-sql\n",
    "import sql\n",
    "from sqlalchemy import create_engine\n",
    "\n",
    "\n",
    "%load_ext sql\n",
    "%sql sqlite://"
   ]
  },
  {
   "cell_type": "markdown",
   "id": "a0942cf0",
   "metadata": {},
   "source": [
    "Tables as per link above"
   ]
  },
  {
   "cell_type": "code",
   "execution_count": 2,
   "id": "91fde500",
   "metadata": {},
   "outputs": [
    {
     "name": "stdout",
     "output_type": "stream",
     "text": [
      " * sqlite://\n",
      "Done.\n",
      "15 rows affected.\n"
     ]
    },
    {
     "data": {
      "text/plain": [
       "[]"
      ]
     },
     "execution_count": 2,
     "metadata": {},
     "output_type": "execute_result"
    }
   ],
   "source": [
    "%%sql \n",
    "\n",
    "CREATE TABLE sales (\n",
    "  \"customer_id\" VARCHAR(1),\n",
    "  \"order_date\" DATE,\n",
    "  \"product_id\" INTEGER\n",
    ");\n",
    "\n",
    "INSERT INTO sales\n",
    "  (\"customer_id\", \"order_date\", \"product_id\")\n",
    "VALUES\n",
    "  ('A', '2021-01-01', '1'),\n",
    "  ('A', '2021-01-01', '2'),\n",
    "  ('A', '2021-01-07', '2'),\n",
    "  ('A', '2021-01-10', '3'),\n",
    "  ('A', '2021-01-11', '3'),\n",
    "  ('A', '2021-01-11', '3'),\n",
    "  ('B', '2021-01-01', '2'),\n",
    "  ('B', '2021-01-02', '2'),\n",
    "  ('B', '2021-01-04', '1'),\n",
    "  ('B', '2021-01-11', '1'),\n",
    "  ('B', '2021-01-16', '3'),\n",
    "  ('B', '2021-02-01', '3'),\n",
    "  ('C', '2021-01-01', '3'),\n",
    "  ('C', '2021-01-01', '3'),\n",
    "  ('C', '2021-01-07', '3');"
   ]
  },
  {
   "cell_type": "code",
   "execution_count": 3,
   "id": "7d9a171f",
   "metadata": {},
   "outputs": [
    {
     "name": "stdout",
     "output_type": "stream",
     "text": [
      " * sqlite://\n",
      "Done.\n",
      "2 rows affected.\n"
     ]
    },
    {
     "data": {
      "text/plain": [
       "[]"
      ]
     },
     "execution_count": 3,
     "metadata": {},
     "output_type": "execute_result"
    }
   ],
   "source": [
    "%%sql\n",
    "\n",
    "CREATE TABLE members (\n",
    "  \"customer_id\" VARCHAR(1),\n",
    "  \"join_date\" DATE\n",
    ");\n",
    "\n",
    "INSERT INTO members\n",
    "  (\"customer_id\", \"join_date\")\n",
    "VALUES\n",
    "  ('A', '2021-01-07'),\n",
    "  ('B', '2021-01-09');"
   ]
  },
  {
   "cell_type": "code",
   "execution_count": 4,
   "id": "0eeed1e3",
   "metadata": {},
   "outputs": [
    {
     "name": "stdout",
     "output_type": "stream",
     "text": [
      " * sqlite://\n",
      "Done.\n",
      "3 rows affected.\n"
     ]
    },
    {
     "data": {
      "text/plain": [
       "[]"
      ]
     },
     "execution_count": 4,
     "metadata": {},
     "output_type": "execute_result"
    }
   ],
   "source": [
    "%%sql\n",
    "\n",
    "CREATE TABLE menu (\n",
    "  \"product_id\" INTEGER,\n",
    "  \"product_name\" VARCHAR(5),\n",
    "  \"price\" INTEGER\n",
    ");\n",
    "\n",
    "INSERT INTO menu\n",
    "  (\"product_id\", \"product_name\", \"price\")\n",
    "VALUES\n",
    "  ('1', 'sushi', '10'),\n",
    "  ('2', 'curry', '15'),\n",
    "  ('3', 'ramen', '12');"
   ]
  },
  {
   "cell_type": "markdown",
   "id": "e05cbdd8",
   "metadata": {},
   "source": [
    "#### Start\n",
    "1. What is the total amount each customer spent at the restaurant?"
   ]
  },
  {
   "cell_type": "code",
   "execution_count": 6,
   "id": "3008d80b",
   "metadata": {},
   "outputs": [
    {
     "name": "stdout",
     "output_type": "stream",
     "text": [
      " * sqlite://\n",
      "Done.\n"
     ]
    },
    {
     "data": {
      "text/html": [
       "<table>\n",
       "    <tr>\n",
       "        <th>customer_id</th>\n",
       "        <th>total_sales</th>\n",
       "    </tr>\n",
       "    <tr>\n",
       "        <td>A</td>\n",
       "        <td>76</td>\n",
       "    </tr>\n",
       "    <tr>\n",
       "        <td>B</td>\n",
       "        <td>74</td>\n",
       "    </tr>\n",
       "    <tr>\n",
       "        <td>C</td>\n",
       "        <td>36</td>\n",
       "    </tr>\n",
       "</table>"
      ],
      "text/plain": [
       "[('A', 76), ('B', 74), ('C', 36)]"
      ]
     },
     "execution_count": 6,
     "metadata": {},
     "output_type": "execute_result"
    }
   ],
   "source": [
    "%%sql\n",
    "\n",
    "SELECT\n",
    "    s.customer_id,\n",
    "    SUM(price) AS total_sales\n",
    "FROM sales AS s\n",
    "JOIN menu AS m\n",
    "ON s.product_id = m.product_id\n",
    "GROUP BY customer_id"
   ]
  },
  {
   "cell_type": "markdown",
   "id": "b89af9bd",
   "metadata": {},
   "source": [
    "2. How many days has each customer visited the restaurant?"
   ]
  },
  {
   "cell_type": "code",
   "execution_count": 31,
   "id": "10b709fa",
   "metadata": {},
   "outputs": [
    {
     "name": "stdout",
     "output_type": "stream",
     "text": [
      " * sqlite://\n",
      "Done.\n"
     ]
    },
    {
     "data": {
      "text/html": [
       "<table>\n",
       "    <tr>\n",
       "        <th>customer_id</th>\n",
       "        <th>number_days</th>\n",
       "    </tr>\n",
       "    <tr>\n",
       "        <td>A</td>\n",
       "        <td>4</td>\n",
       "    </tr>\n",
       "    <tr>\n",
       "        <td>B</td>\n",
       "        <td>6</td>\n",
       "    </tr>\n",
       "    <tr>\n",
       "        <td>C</td>\n",
       "        <td>2</td>\n",
       "    </tr>\n",
       "</table>"
      ],
      "text/plain": [
       "[('A', 4), ('B', 6), ('C', 2)]"
      ]
     },
     "execution_count": 31,
     "metadata": {},
     "output_type": "execute_result"
    }
   ],
   "source": [
    "%%sql\n",
    "\n",
    "SELECT \n",
    "    s.customer_id,\n",
    "    COUNT(DISTINCT(order_date)) AS number_days\n",
    "FROM sales AS s\n",
    "GROUP BY s.customer_id;"
   ]
  },
  {
   "cell_type": "markdown",
   "id": "081c2c70",
   "metadata": {},
   "source": [
    "3. What was the first item from the menu purchased by each customer?\n",
    "\n",
    "Notes on DENSE_RANK() - <a href = 'https://www.geeksforgeeks.org/postgresql-dense_rank-function/'>here</a>."
   ]
  },
  {
   "cell_type": "code",
   "execution_count": 35,
   "id": "29e70612",
   "metadata": {},
   "outputs": [
    {
     "name": "stdout",
     "output_type": "stream",
     "text": [
      " * sqlite://\n",
      "Done.\n"
     ]
    },
    {
     "data": {
      "text/html": [
       "<table>\n",
       "    <tr>\n",
       "        <th>customer_id</th>\n",
       "        <th>product_name</th>\n",
       "    </tr>\n",
       "    <tr>\n",
       "        <td>A</td>\n",
       "        <td>curry</td>\n",
       "    </tr>\n",
       "    <tr>\n",
       "        <td>A</td>\n",
       "        <td>sushi</td>\n",
       "    </tr>\n",
       "    <tr>\n",
       "        <td>B</td>\n",
       "        <td>curry</td>\n",
       "    </tr>\n",
       "    <tr>\n",
       "        <td>C</td>\n",
       "        <td>ramen</td>\n",
       "    </tr>\n",
       "</table>"
      ],
      "text/plain": [
       "[('A', 'curry'), ('A', 'sushi'), ('B', 'curry'), ('C', 'ramen')]"
      ]
     },
     "execution_count": 35,
     "metadata": {},
     "output_type": "execute_result"
    }
   ],
   "source": [
    "%%sql\n",
    "\n",
    "WITH ranked_sales AS\n",
    "(SELECT\n",
    "    s.customer_id,\n",
    "    s.order_date,\n",
    "    m.product_name,\n",
    "    DENSE_RANK() OVER (PARTITION BY s.customer_id\n",
    "                              ORDER BY s.order_date) AS ranking\n",
    "FROM sales AS s\n",
    "JOIN menu AS m\n",
    "    ON s.product_id = m.product_id)\n",
    "    \n",
    "SELECT \n",
    "    customer_id,\n",
    "    product_name\n",
    "FROM ranked_sales\n",
    "WHERE ranking = 1\n",
    "GROUP BY customer_id, product_name;"
   ]
  },
  {
   "cell_type": "markdown",
   "id": "d45e028c",
   "metadata": {},
   "source": [
    "4. What is the most purchased item on the menu and how many times was it purchased by all customers?"
   ]
  },
  {
   "cell_type": "code",
   "execution_count": 36,
   "id": "fe344bbc",
   "metadata": {},
   "outputs": [
    {
     "name": "stdout",
     "output_type": "stream",
     "text": [
      " * sqlite://\n",
      "Done.\n"
     ]
    },
    {
     "data": {
      "text/html": [
       "<table>\n",
       "    <tr>\n",
       "        <th>product</th>\n",
       "        <th>product_name</th>\n",
       "    </tr>\n",
       "    <tr>\n",
       "        <td>8</td>\n",
       "        <td>ramen</td>\n",
       "    </tr>\n",
       "    <tr>\n",
       "        <td>4</td>\n",
       "        <td>curry</td>\n",
       "    </tr>\n",
       "    <tr>\n",
       "        <td>3</td>\n",
       "        <td>sushi</td>\n",
       "    </tr>\n",
       "</table>"
      ],
      "text/plain": [
       "[(8, 'ramen'), (4, 'curry'), (3, 'sushi')]"
      ]
     },
     "execution_count": 36,
     "metadata": {},
     "output_type": "execute_result"
    }
   ],
   "source": [
    "%%sql\n",
    "\n",
    "SELECT\n",
    "    (COUNT(s.product_id)) AS product,\n",
    "    product_name\n",
    "FROM sales AS s\n",
    "JOIN menu AS m\n",
    "    ON s.product_id = m.product_id\n",
    "GROUP BY s.product_id, product_name\n",
    "ORDER BY product DESC;"
   ]
  },
  {
   "cell_type": "markdown",
   "id": "9849ee55",
   "metadata": {},
   "source": [
    "5. Which item was the most popular for each customer?"
   ]
  },
  {
   "cell_type": "code",
   "execution_count": 42,
   "id": "0b25525a",
   "metadata": {},
   "outputs": [
    {
     "name": "stdout",
     "output_type": "stream",
     "text": [
      " * sqlite://\n",
      "Done.\n"
     ]
    },
    {
     "data": {
      "text/html": [
       "<table>\n",
       "    <tr>\n",
       "        <th>customer_id</th>\n",
       "        <th>product_name</th>\n",
       "        <th>purchased</th>\n",
       "        <th>ranking</th>\n",
       "    </tr>\n",
       "    <tr>\n",
       "        <td>A</td>\n",
       "        <td>ramen</td>\n",
       "        <td>3</td>\n",
       "        <td>1</td>\n",
       "    </tr>\n",
       "    <tr>\n",
       "        <td>A</td>\n",
       "        <td>curry</td>\n",
       "        <td>2</td>\n",
       "        <td>2</td>\n",
       "    </tr>\n",
       "    <tr>\n",
       "        <td>A</td>\n",
       "        <td>sushi</td>\n",
       "        <td>1</td>\n",
       "        <td>3</td>\n",
       "    </tr>\n",
       "    <tr>\n",
       "        <td>B</td>\n",
       "        <td>sushi</td>\n",
       "        <td>2</td>\n",
       "        <td>1</td>\n",
       "    </tr>\n",
       "    <tr>\n",
       "        <td>B</td>\n",
       "        <td>curry</td>\n",
       "        <td>2</td>\n",
       "        <td>1</td>\n",
       "    </tr>\n",
       "    <tr>\n",
       "        <td>B</td>\n",
       "        <td>ramen</td>\n",
       "        <td>2</td>\n",
       "        <td>1</td>\n",
       "    </tr>\n",
       "    <tr>\n",
       "        <td>C</td>\n",
       "        <td>ramen</td>\n",
       "        <td>3</td>\n",
       "        <td>1</td>\n",
       "    </tr>\n",
       "</table>"
      ],
      "text/plain": [
       "[('A', 'ramen', 3, 1),\n",
       " ('A', 'curry', 2, 2),\n",
       " ('A', 'sushi', 1, 3),\n",
       " ('B', 'sushi', 2, 1),\n",
       " ('B', 'curry', 2, 1),\n",
       " ('B', 'ramen', 2, 1),\n",
       " ('C', 'ramen', 3, 1)]"
      ]
     },
     "execution_count": 42,
     "metadata": {},
     "output_type": "execute_result"
    }
   ],
   "source": [
    "%%sql\n",
    "\n",
    "WITH most_popular AS\n",
    "(SELECT\n",
    "     s.customer_id,\n",
    "     m.product_name,\n",
    "     COUNT(s.product_id) AS purchased,\n",
    "     DENSE_RANK() OVER(PARTITION BY s.customer_id\n",
    "                      ORDER BY COUNT(s.customer_id) DESC) AS ranking\n",
    " FROM sales AS s\n",
    " JOIN menu AS m\n",
    "     ON s.product_id = m.product_id\n",
    " GROUP BY s.customer_id, m.product_id, product_name\n",
    ")\n",
    "\n",
    "SELECT * FROM most_popular;"
   ]
  },
  {
   "cell_type": "markdown",
   "id": "04117c0d",
   "metadata": {},
   "source": [
    "6. Which item was purchased first by the customer after they became a member?"
   ]
  },
  {
   "cell_type": "code",
   "execution_count": 55,
   "id": "7bb77613",
   "metadata": {},
   "outputs": [
    {
     "name": "stdout",
     "output_type": "stream",
     "text": [
      " * sqlite://\n",
      "Done.\n"
     ]
    },
    {
     "data": {
      "text/html": [
       "<table>\n",
       "    <tr>\n",
       "        <th>customer_id</th>\n",
       "        <th>order_date</th>\n",
       "        <th>product_name</th>\n",
       "    </tr>\n",
       "    <tr>\n",
       "        <td>A</td>\n",
       "        <td>2021-01-07</td>\n",
       "        <td>curry</td>\n",
       "    </tr>\n",
       "    <tr>\n",
       "        <td>B</td>\n",
       "        <td>2021-01-11</td>\n",
       "        <td>sushi</td>\n",
       "    </tr>\n",
       "</table>"
      ],
      "text/plain": [
       "[('A', '2021-01-07', 'curry'), ('B', '2021-01-11', 'sushi')]"
      ]
     },
     "execution_count": 55,
     "metadata": {},
     "output_type": "execute_result"
    }
   ],
   "source": [
    "%%sql\n",
    "\n",
    "WITH ranked_sales AS \n",
    "(SELECT s.customer_id, m.join_date, s.order_date, s.product_id,\n",
    "     DENSE_RANK() OVER(PARTITION BY s.customer_id\n",
    "                         ORDER BY s.order_date) AS ranked #section out by customer_id, then place them in order of date of order\n",
    " FROM sales AS s\n",
    " JOIN members AS m\n",
    "     ON s.customer_id = m.customer_id\n",
    " WHERE s.order_date >= m.join_date) #order date must be larger than join date\n",
    "\n",
    "SELECT s.customer_id, s.order_date, m.product_name\n",
    "FROM rankeD_sales as s\n",
    "JOIN menu as m\n",
    "    ON s.product_id = m.product_id\n",
    "WHERE s.ranked = 1\n",
    "ORDER BY s.customer_id"
   ]
  },
  {
   "cell_type": "markdown",
   "id": "e488f117",
   "metadata": {},
   "source": [
    "7.  Which item was purchased just before the customer became a member?"
   ]
  },
  {
   "cell_type": "code",
   "execution_count": 66,
   "id": "c34ac41c",
   "metadata": {},
   "outputs": [
    {
     "name": "stdout",
     "output_type": "stream",
     "text": [
      " * sqlite://\n",
      "Done.\n"
     ]
    },
    {
     "data": {
      "text/html": [
       "<table>\n",
       "    <tr>\n",
       "        <th>customer_id</th>\n",
       "        <th>order_date</th>\n",
       "        <th>product_name</th>\n",
       "    </tr>\n",
       "    <tr>\n",
       "        <td>A</td>\n",
       "        <td>2021-01-01</td>\n",
       "        <td>sushi</td>\n",
       "    </tr>\n",
       "    <tr>\n",
       "        <td>A</td>\n",
       "        <td>2021-01-01</td>\n",
       "        <td>curry</td>\n",
       "    </tr>\n",
       "    <tr>\n",
       "        <td>B</td>\n",
       "        <td>2021-01-04</td>\n",
       "        <td>sushi</td>\n",
       "    </tr>\n",
       "</table>"
      ],
      "text/plain": [
       "[('A', '2021-01-01', 'sushi'),\n",
       " ('A', '2021-01-01', 'curry'),\n",
       " ('B', '2021-01-04', 'sushi')]"
      ]
     },
     "execution_count": 66,
     "metadata": {},
     "output_type": "execute_result"
    }
   ],
   "source": [
    "%%sql\n",
    "\n",
    "WITH ranked_sales AS \n",
    "(SELECT s.customer_id, m.join_date, s.order_date, s.product_id,\n",
    "     DENSE_RANK() OVER(PARTITION BY s.customer_id\n",
    "                         ORDER BY s.order_date DESC) AS ranked\n",
    " FROM sales AS s\n",
    " JOIN members AS m\n",
    "     ON s.customer_id = m.customer_id\n",
    " WHERE s.order_date < m.join_date) \n",
    "\n",
    "SELECT s.customer_id, s.order_date, m.product_name\n",
    "FROM ranked_sales AS s\n",
    "JOIN menu AS m\n",
    "    ON s.product_id = m.product_id\n",
    "WHERE s.ranked = 1\n",
    "ORDER BY s.customer_id"
   ]
  },
  {
   "cell_type": "markdown",
   "id": "f962552c",
   "metadata": {},
   "source": [
    "8. What is the total items and amount spent for each member before they became a member?"
   ]
  },
  {
   "cell_type": "code",
   "execution_count": 77,
   "id": "f5e24ee7",
   "metadata": {},
   "outputs": [
    {
     "name": "stdout",
     "output_type": "stream",
     "text": [
      " * sqlite://\n",
      "Done.\n"
     ]
    },
    {
     "data": {
      "text/html": [
       "<table>\n",
       "    <tr>\n",
       "        <th>customer_id</th>\n",
       "        <th>total_spend</th>\n",
       "        <th>items</th>\n",
       "    </tr>\n",
       "    <tr>\n",
       "        <td>A</td>\n",
       "        <td>25</td>\n",
       "        <td>2</td>\n",
       "    </tr>\n",
       "    <tr>\n",
       "        <td>B</td>\n",
       "        <td>40</td>\n",
       "        <td>2</td>\n",
       "    </tr>\n",
       "</table>"
      ],
      "text/plain": [
       "[('A', 25, 2), ('B', 40, 2)]"
      ]
     },
     "execution_count": 77,
     "metadata": {},
     "output_type": "execute_result"
    }
   ],
   "source": [
    "%%sql\n",
    "\n",
    "SELECT \n",
    "    s.customer_id, \n",
    "    SUM(men.price) AS total_spend, \n",
    "    COUNT(DISTINCT s.product_id) AS items\n",
    "FROM sales AS s\n",
    "JOIN members AS m\n",
    "    ON s.customer_id = m.customer_id\n",
    "JOIN menu AS men\n",
    "    ON s.product_id = men.product_id\n",
    "WHERE s.order_date < m.join_date\n",
    "                         \n",
    "GROUP BY s.customer_id;                         "
   ]
  },
  {
   "cell_type": "markdown",
   "id": "e3ad7c2d",
   "metadata": {},
   "source": [
    "9. If each $1 spent equates to 10 points and sushi has a 2x points multiplier - how many points would each customer have?"
   ]
  },
  {
   "cell_type": "code",
   "execution_count": 82,
   "id": "e041326b",
   "metadata": {},
   "outputs": [
    {
     "name": "stdout",
     "output_type": "stream",
     "text": [
      " * sqlite://\n",
      "Done.\n"
     ]
    },
    {
     "data": {
      "text/html": [
       "<table>\n",
       "    <tr>\n",
       "        <th>customer_id</th>\n",
       "        <th>total_points</th>\n",
       "    </tr>\n",
       "    <tr>\n",
       "        <td>A</td>\n",
       "        <td>860</td>\n",
       "    </tr>\n",
       "    <tr>\n",
       "        <td>B</td>\n",
       "        <td>940</td>\n",
       "    </tr>\n",
       "    <tr>\n",
       "        <td>C</td>\n",
       "        <td>360</td>\n",
       "    </tr>\n",
       "</table>"
      ],
      "text/plain": [
       "[('A', 860), ('B', 940), ('C', 360)]"
      ]
     },
     "execution_count": 82,
     "metadata": {},
     "output_type": "execute_result"
    }
   ],
   "source": [
    "%%sql\n",
    "\n",
    "WITH commontableexpression_points AS\n",
    "(\n",
    "SELECT\n",
    "    menu.product_id, menu.product_name, \n",
    "    CASE WHEN menu.product_name = 'sushi' \n",
    "         THEN menu.price * 20\n",
    "         ELSE price * 10\n",
    "    END \n",
    "    AS points\n",
    "FROM menu\n",
    ")\n",
    "\n",
    "SELECT \n",
    "    customer_id, \n",
    "    SUM(commontableexpression_points.points) AS total_points\n",
    "FROM commontableexpression_points\n",
    "JOIN sales\n",
    "    ON commontableexpression_points.product_id = sales.product_id\n",
    "GROUP BY sales.customer_id"
   ]
  },
  {
   "cell_type": "markdown",
   "id": "b6ea6be8",
   "metadata": {},
   "source": [
    "10. In the first week after a customer joins the program (including their join date) they earn 2x points on all items, not just sushi - how many points do customer A and B have at the end of January?"
   ]
  },
  {
   "cell_type": "code",
   "execution_count": 92,
   "id": "6500a869",
   "metadata": {},
   "outputs": [
    {
     "name": "stdout",
     "output_type": "stream",
     "text": [
      " * sqlite://\n",
      "Done.\n"
     ]
    },
    {
     "data": {
      "text/html": [
       "<table>\n",
       "    <tr>\n",
       "        <th>total_points</th>\n",
       "        <th>product_id</th>\n",
       "        <th>customer_id</th>\n",
       "        <th>order_date</th>\n",
       "        <th>join_date</th>\n",
       "        <th>days_diff</th>\n",
       "    </tr>\n",
       "    <tr>\n",
       "        <td>1370</td>\n",
       "        <td>1</td>\n",
       "        <td>A</td>\n",
       "        <td>2021-01-01</td>\n",
       "        <td>2021-01-07</td>\n",
       "        <td>-6.0</td>\n",
       "    </tr>\n",
       "    <tr>\n",
       "        <td>820</td>\n",
       "        <td>2</td>\n",
       "        <td>B</td>\n",
       "        <td>2021-01-01</td>\n",
       "        <td>2021-01-09</td>\n",
       "        <td>-8.0</td>\n",
       "    </tr>\n",
       "</table>"
      ],
      "text/plain": [
       "[(1370, 1, 'A', '2021-01-01', '2021-01-07', -6.0),\n",
       " (820, 2, 'B', '2021-01-01', '2021-01-09', -8.0)]"
      ]
     },
     "execution_count": 92,
     "metadata": {},
     "output_type": "execute_result"
    }
   ],
   "source": [
    "%%sql\n",
    "\n",
    "WITH cte_days AS\n",
    "(SELECT members.customer_id, members.join_date,sales.order_date,sales.product_id,\n",
    "julianday(sales.order_date)-julianday(members.join_date) AS days_diff\n",
    "from sales \n",
    "INNER JOIN members on sales.customer_id = members.customer_id)\n",
    "\n",
    "\n",
    "SELECT SUM(CASE WHEN cte_days.product_id =1 THEN menu.price*20\n",
    "        WHEN days_diff BETWEEN 0 and 6 and days_diff >=0 THEN menu.price*20\n",
    " WHEN days_diff < 0 THEN menu.price * 10\n",
    "WHEN cte_days.product_id =1 THEN menu.price*20\n",
    "WHEN cte_days.order_date >= \"2021-02-01\" THEN menu.price*0\n",
    "\n",
    "ELSE menu.price*10 END) AS total_points, cte_days.product_id,  cte_days.customer_id, cte_days.order_date, cte_days.join_date, cte_days.days_diff\n",
    "FROM cte_days\n",
    "LEFT JOIN MENU on cte_days.product_id = menu.product_id\n",
    "GROUP BY customer_id"
   ]
  },
  {
   "cell_type": "code",
   "execution_count": null,
   "id": "2aabb356",
   "metadata": {},
   "outputs": [],
   "source": []
  }
 ],
 "metadata": {
  "kernelspec": {
   "display_name": "Python 3 (ipykernel)",
   "language": "python",
   "name": "python3"
  },
  "language_info": {
   "codemirror_mode": {
    "name": "ipython",
    "version": 3
   },
   "file_extension": ".py",
   "mimetype": "text/x-python",
   "name": "python",
   "nbconvert_exporter": "python",
   "pygments_lexer": "ipython3",
   "version": "3.9.7"
  }
 },
 "nbformat": 4,
 "nbformat_minor": 5
}
