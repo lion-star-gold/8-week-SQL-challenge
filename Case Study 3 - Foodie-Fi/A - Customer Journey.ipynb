{
 "cells": [
  {
   "cell_type": "markdown",
   "id": "ac7b7110",
   "metadata": {},
   "source": [
    "## <a href = 'https://8weeksqlchallenge.com/case-study-3/'>Foodie-Fi</a>\n",
    "\n",
    "#### Introduction\n",
    "\n",
    "<img src = 'https://8weeksqlchallenge.com/images/case-study-designs/3.png'>\n",
    "\n",
    "<br>\n",
    "\n",
    "Subscription based businesses are super popular and Danny realised that there was a large gap in the market - he wanted to create a new streaming service that only had food related content - something like Netflix but with only cooking shows!\n",
    "\n",
    "Danny finds a few smart friends to launch his new startup Foodie-Fi in 2020 and started selling monthly and annual subscriptions, giving their customers unlimited on-demand access to exclusive food videos from around the world!\n",
    "\n",
    "Danny created Foodie-Fi with a data driven mindset and wanted to ensure all future investment decisions and new features were decided using data. This case study focuses on using subscription style digital data to answer important business questions.\n",
    "\n",
    "### A - Customer Journey\n",
    "\n",
    "Based off the 8 sample customers provided in the sample from the subscriptions table, write a brief description about each customer’s onboarding journey.\n",
    "\n",
    "Try to keep it as short as possible - you may also want to run some sort of join to make your explanations a bit easier!"
   ]
  },
  {
   "cell_type": "code",
   "execution_count": 2,
   "id": "77812aa2",
   "metadata": {},
   "outputs": [],
   "source": [
    "import sql\n",
    "from sqlalchemy import create_engine\n",
    "\n",
    "%load_ext sql\n",
    "%sql sqlite://"
   ]
  },
  {
   "cell_type": "markdown",
   "id": "5cedbb36",
   "metadata": {},
   "source": [
    "Tables as per link above"
   ]
  },
  {
   "cell_type": "code",
   "execution_count": 3,
   "id": "7b2daf57",
   "metadata": {},
   "outputs": [
    {
     "name": "stdout",
     "output_type": "stream",
     "text": [
      " * sqlite://\n",
      "Done.\n",
      "Done.\n",
      "5 rows affected.\n"
     ]
    },
    {
     "data": {
      "text/plain": [
       "[]"
      ]
     },
     "execution_count": 3,
     "metadata": {},
     "output_type": "execute_result"
    }
   ],
   "source": [
    "%%sql\n",
    "\n",
    "DROP TABLE IF EXISTS plans;\n",
    "CREATE TABLE plans(\"plan_id\" INTEGER,\n",
    "                   \"plan_name\" TEXT,\n",
    "                   \"price\" INTEGER);\n",
    "INSERT INTO plans\n",
    "    (\"plan_id\", \"plan_name\", \"price\")\n",
    "VALUES\n",
    "    (0, \"trial\", 0),\n",
    "    (1, \"basic monthly\", 9.90),\n",
    "    (2, \"pro monthly\", 19.90),\n",
    "    (3, \"pro annual\", 199),\n",
    "    (4, \"churn\", NULL);"
   ]
  },
  {
   "cell_type": "code",
   "execution_count": 4,
   "id": "d8005a5c",
   "metadata": {},
   "outputs": [
    {
     "name": "stdout",
     "output_type": "stream",
     "text": [
      " * sqlite://\n",
      "Done.\n",
      "Done.\n",
      "20 rows affected.\n"
     ]
    },
    {
     "data": {
      "text/plain": [
       "[]"
      ]
     },
     "execution_count": 4,
     "metadata": {},
     "output_type": "execute_result"
    }
   ],
   "source": [
    "%%sql\n",
    "\n",
    "DROP TABLE IF EXISTS subscriptions;\n",
    "CREATE TABLE subscriptions(\"customer_id\" INTEGER,\n",
    "                           \"plan_id\" INTEGER,\n",
    "                           \"start_date\" DATE);\n",
    "INSERT INTO subscriptions\n",
    "    (\"customer_id\", \"plan_id\", \"start_date\")\n",
    "VALUES\n",
    "    (1,  0, \"2020-08-01\"),\n",
    "    (1,  1, \"2020-08-08\"),\n",
    "    (2,  0, \"2020-09-20\"),\n",
    "    (2,  3, \"2020-09-27\"),\n",
    "    (11, 0, \"2020-11-19\"),\n",
    "    (11, 4, \"2020-11-26\"),\n",
    "    (13, 0, \"2020-12-15\"),\n",
    "    (13, 1, \"2020-12-22\"),\n",
    "    (13, 2, \"2021-03-29\"),\n",
    "    (15, 0, \"2020-03-17\"),\n",
    "    (15, 2, \"2020-03-24\"),\n",
    "    (15, 4, \"2020-04-29\"),\n",
    "    (16, 0, \"2020-05-31\"),\n",
    "    (16, 1, \"2020-06-07\"),\n",
    "    (16, 3, \"2020-10-21\"),\n",
    "    (18, 0, \"2020-07-06\"),\n",
    "    (18, 2, \"2020-07-13\"),\n",
    "    (19, 0, \"2020-06-22\"),\n",
    "    (19, 2, \"2020-06-29\"),\n",
    "    (19, 3, \"2020-08-29\");"
   ]
  },
  {
   "cell_type": "code",
   "execution_count": 5,
   "id": "32e4577b",
   "metadata": {},
   "outputs": [
    {
     "name": "stdout",
     "output_type": "stream",
     "text": [
      " * sqlite://\n",
      "Done.\n"
     ]
    },
    {
     "data": {
      "text/html": [
       "<table>\n",
       "    <tr>\n",
       "        <th>id</th>\n",
       "        <th>plan_name</th>\n",
       "        <th>start_date</th>\n",
       "    </tr>\n",
       "    <tr>\n",
       "        <td>1</td>\n",
       "        <td>trial</td>\n",
       "        <td>2020-08-01</td>\n",
       "    </tr>\n",
       "    <tr>\n",
       "        <td>1</td>\n",
       "        <td>basic monthly</td>\n",
       "        <td>2020-08-08</td>\n",
       "    </tr>\n",
       "    <tr>\n",
       "        <td>2</td>\n",
       "        <td>trial</td>\n",
       "        <td>2020-09-20</td>\n",
       "    </tr>\n",
       "    <tr>\n",
       "        <td>2</td>\n",
       "        <td>pro annual</td>\n",
       "        <td>2020-09-27</td>\n",
       "    </tr>\n",
       "    <tr>\n",
       "        <td>11</td>\n",
       "        <td>trial</td>\n",
       "        <td>2020-11-19</td>\n",
       "    </tr>\n",
       "    <tr>\n",
       "        <td>11</td>\n",
       "        <td>churn</td>\n",
       "        <td>2020-11-26</td>\n",
       "    </tr>\n",
       "    <tr>\n",
       "        <td>13</td>\n",
       "        <td>trial</td>\n",
       "        <td>2020-12-15</td>\n",
       "    </tr>\n",
       "    <tr>\n",
       "        <td>13</td>\n",
       "        <td>basic monthly</td>\n",
       "        <td>2020-12-22</td>\n",
       "    </tr>\n",
       "    <tr>\n",
       "        <td>13</td>\n",
       "        <td>pro monthly</td>\n",
       "        <td>2021-03-29</td>\n",
       "    </tr>\n",
       "    <tr>\n",
       "        <td>15</td>\n",
       "        <td>trial</td>\n",
       "        <td>2020-03-17</td>\n",
       "    </tr>\n",
       "    <tr>\n",
       "        <td>15</td>\n",
       "        <td>pro monthly</td>\n",
       "        <td>2020-03-24</td>\n",
       "    </tr>\n",
       "    <tr>\n",
       "        <td>15</td>\n",
       "        <td>churn</td>\n",
       "        <td>2020-04-29</td>\n",
       "    </tr>\n",
       "    <tr>\n",
       "        <td>16</td>\n",
       "        <td>trial</td>\n",
       "        <td>2020-05-31</td>\n",
       "    </tr>\n",
       "    <tr>\n",
       "        <td>16</td>\n",
       "        <td>basic monthly</td>\n",
       "        <td>2020-06-07</td>\n",
       "    </tr>\n",
       "    <tr>\n",
       "        <td>16</td>\n",
       "        <td>pro annual</td>\n",
       "        <td>2020-10-21</td>\n",
       "    </tr>\n",
       "    <tr>\n",
       "        <td>18</td>\n",
       "        <td>trial</td>\n",
       "        <td>2020-07-06</td>\n",
       "    </tr>\n",
       "    <tr>\n",
       "        <td>18</td>\n",
       "        <td>pro monthly</td>\n",
       "        <td>2020-07-13</td>\n",
       "    </tr>\n",
       "    <tr>\n",
       "        <td>19</td>\n",
       "        <td>trial</td>\n",
       "        <td>2020-06-22</td>\n",
       "    </tr>\n",
       "    <tr>\n",
       "        <td>19</td>\n",
       "        <td>pro monthly</td>\n",
       "        <td>2020-06-29</td>\n",
       "    </tr>\n",
       "    <tr>\n",
       "        <td>19</td>\n",
       "        <td>pro annual</td>\n",
       "        <td>2020-08-29</td>\n",
       "    </tr>\n",
       "</table>"
      ],
      "text/plain": [
       "[(1, 'trial', '2020-08-01'),\n",
       " (1, 'basic monthly', '2020-08-08'),\n",
       " (2, 'trial', '2020-09-20'),\n",
       " (2, 'pro annual', '2020-09-27'),\n",
       " (11, 'trial', '2020-11-19'),\n",
       " (11, 'churn', '2020-11-26'),\n",
       " (13, 'trial', '2020-12-15'),\n",
       " (13, 'basic monthly', '2020-12-22'),\n",
       " (13, 'pro monthly', '2021-03-29'),\n",
       " (15, 'trial', '2020-03-17'),\n",
       " (15, 'pro monthly', '2020-03-24'),\n",
       " (15, 'churn', '2020-04-29'),\n",
       " (16, 'trial', '2020-05-31'),\n",
       " (16, 'basic monthly', '2020-06-07'),\n",
       " (16, 'pro annual', '2020-10-21'),\n",
       " (18, 'trial', '2020-07-06'),\n",
       " (18, 'pro monthly', '2020-07-13'),\n",
       " (19, 'trial', '2020-06-22'),\n",
       " (19, 'pro monthly', '2020-06-29'),\n",
       " (19, 'pro annual', '2020-08-29')]"
      ]
     },
     "execution_count": 5,
     "metadata": {},
     "output_type": "execute_result"
    }
   ],
   "source": [
    "%%sql\n",
    "\n",
    "SELECT s.customer_id AS id,\n",
    "    p.plan_name,\n",
    "    s.start_date\n",
    "FROM subscriptions AS s\n",
    "JOIN plans AS p\n",
    "    ON s.plan_id = p.plan_id\n",
    "ORDER BY s.customer_id"
   ]
  },
  {
   "cell_type": "code",
   "execution_count": 6,
   "id": "3f9d7b95",
   "metadata": {},
   "outputs": [
    {
     "name": "stdout",
     "output_type": "stream",
     "text": [
      " * sqlite://\n",
      "Done.\n"
     ]
    },
    {
     "data": {
      "text/html": [
       "<table>\n",
       "    <tr>\n",
       "        <th>id</th>\n",
       "        <th>plan_name</th>\n",
       "    </tr>\n",
       "    <tr>\n",
       "        <td>11</td>\n",
       "        <td>churn</td>\n",
       "    </tr>\n",
       "    <tr>\n",
       "        <td>15</td>\n",
       "        <td>churn</td>\n",
       "    </tr>\n",
       "</table>"
      ],
      "text/plain": [
       "[(11, 'churn'), (15, 'churn')]"
      ]
     },
     "execution_count": 6,
     "metadata": {},
     "output_type": "execute_result"
    }
   ],
   "source": [
    "%%sql\n",
    "\n",
    "SELECT s.customer_id AS id,\n",
    "    p.plan_name\n",
    "FROM subscriptions AS s\n",
    "JOIN plans AS p\n",
    "    ON s.plan_id = p.plan_id\n",
    "WHERE p.plan_name LIKE \"churn\";"
   ]
  },
  {
   "cell_type": "code",
   "execution_count": 7,
   "id": "e8c60cbd",
   "metadata": {},
   "outputs": [
    {
     "name": "stdout",
     "output_type": "stream",
     "text": [
      " * sqlite://\n",
      "Done.\n"
     ]
    },
    {
     "data": {
      "text/html": [
       "<table>\n",
       "    <tr>\n",
       "        <th>id</th>\n",
       "        <th>plan_name</th>\n",
       "    </tr>\n",
       "    <tr>\n",
       "        <td>2</td>\n",
       "        <td>pro annual</td>\n",
       "    </tr>\n",
       "    <tr>\n",
       "        <td>16</td>\n",
       "        <td>pro annual</td>\n",
       "    </tr>\n",
       "    <tr>\n",
       "        <td>19</td>\n",
       "        <td>pro annual</td>\n",
       "    </tr>\n",
       "</table>"
      ],
      "text/plain": [
       "[(2, 'pro annual'), (16, 'pro annual'), (19, 'pro annual')]"
      ]
     },
     "execution_count": 7,
     "metadata": {},
     "output_type": "execute_result"
    }
   ],
   "source": [
    "%%sql\n",
    "\n",
    "SELECT s.customer_id AS id,\n",
    "    p.plan_name\n",
    "FROM subscriptions AS s\n",
    "JOIN plans AS p\n",
    "    ON s.plan_id = p.plan_id\n",
    "WHERE p.plan_name LIKE \"pro annual\";"
   ]
  },
  {
   "cell_type": "code",
   "execution_count": 8,
   "id": "bb92ce08",
   "metadata": {},
   "outputs": [
    {
     "name": "stdout",
     "output_type": "stream",
     "text": [
      " * sqlite://\n",
      "Done.\n"
     ]
    },
    {
     "data": {
      "text/html": [
       "<table>\n",
       "    <tr>\n",
       "        <th>id</th>\n",
       "        <th>plan_name</th>\n",
       "    </tr>\n",
       "    <tr>\n",
       "        <td>13</td>\n",
       "        <td>pro monthly</td>\n",
       "    </tr>\n",
       "    <tr>\n",
       "        <td>15</td>\n",
       "        <td>pro monthly</td>\n",
       "    </tr>\n",
       "    <tr>\n",
       "        <td>18</td>\n",
       "        <td>pro monthly</td>\n",
       "    </tr>\n",
       "    <tr>\n",
       "        <td>19</td>\n",
       "        <td>pro monthly</td>\n",
       "    </tr>\n",
       "</table>"
      ],
      "text/plain": [
       "[(13, 'pro monthly'),\n",
       " (15, 'pro monthly'),\n",
       " (18, 'pro monthly'),\n",
       " (19, 'pro monthly')]"
      ]
     },
     "execution_count": 8,
     "metadata": {},
     "output_type": "execute_result"
    }
   ],
   "source": [
    "%%sql\n",
    "\n",
    "SELECT s.customer_id AS id,\n",
    "    p.plan_name\n",
    "FROM subscriptions AS s\n",
    "JOIN plans AS p\n",
    "    ON s.plan_id = p.plan_id\n",
    "WHERE p.plan_name LIKE \"pro monthly\";"
   ]
  },
  {
   "cell_type": "code",
   "execution_count": 9,
   "id": "c86c9b75",
   "metadata": {},
   "outputs": [
    {
     "name": "stdout",
     "output_type": "stream",
     "text": [
      " * sqlite://\n",
      "Done.\n"
     ]
    },
    {
     "data": {
      "text/html": [
       "<table>\n",
       "    <tr>\n",
       "        <th>unique_customers</th>\n",
       "    </tr>\n",
       "    <tr>\n",
       "        <td>8</td>\n",
       "    </tr>\n",
       "</table>"
      ],
      "text/plain": [
       "[(8,)]"
      ]
     },
     "execution_count": 9,
     "metadata": {},
     "output_type": "execute_result"
    }
   ],
   "source": [
    "%%sql\n",
    "\n",
    "SELECT COUNT(DISTINCT customer_id) AS unique_customers\n",
    "FROM subscriptions"
   ]
  },
  {
   "cell_type": "code",
   "execution_count": 14,
   "id": "f753e887",
   "metadata": {},
   "outputs": [
    {
     "name": "stdout",
     "output_type": "stream",
     "text": [
      " * sqlite://\n",
      "Done.\n"
     ]
    },
    {
     "data": {
      "text/html": [
       "<table>\n",
       "    <tr>\n",
       "        <th>customer_id</th>\n",
       "        <th>plan_id</th>\n",
       "        <th>start_date</th>\n",
       "        <th>plan_id_1</th>\n",
       "        <th>plan_name</th>\n",
       "        <th>price</th>\n",
       "    </tr>\n",
       "    <tr>\n",
       "        <td>1</td>\n",
       "        <td>1</td>\n",
       "        <td>2020-08-08</td>\n",
       "        <td>1</td>\n",
       "        <td>basic monthly</td>\n",
       "        <td>9.9</td>\n",
       "    </tr>\n",
       "    <tr>\n",
       "        <td>2</td>\n",
       "        <td>3</td>\n",
       "        <td>2020-09-27</td>\n",
       "        <td>3</td>\n",
       "        <td>pro annual</td>\n",
       "        <td>199</td>\n",
       "    </tr>\n",
       "    <tr>\n",
       "        <td>13</td>\n",
       "        <td>1</td>\n",
       "        <td>2020-12-22</td>\n",
       "        <td>1</td>\n",
       "        <td>basic monthly</td>\n",
       "        <td>9.9</td>\n",
       "    </tr>\n",
       "    <tr>\n",
       "        <td>13</td>\n",
       "        <td>2</td>\n",
       "        <td>2021-03-29</td>\n",
       "        <td>2</td>\n",
       "        <td>pro monthly</td>\n",
       "        <td>19.9</td>\n",
       "    </tr>\n",
       "    <tr>\n",
       "        <td>15</td>\n",
       "        <td>2</td>\n",
       "        <td>2020-03-24</td>\n",
       "        <td>2</td>\n",
       "        <td>pro monthly</td>\n",
       "        <td>19.9</td>\n",
       "    </tr>\n",
       "    <tr>\n",
       "        <td>16</td>\n",
       "        <td>1</td>\n",
       "        <td>2020-06-07</td>\n",
       "        <td>1</td>\n",
       "        <td>basic monthly</td>\n",
       "        <td>9.9</td>\n",
       "    </tr>\n",
       "    <tr>\n",
       "        <td>16</td>\n",
       "        <td>3</td>\n",
       "        <td>2020-10-21</td>\n",
       "        <td>3</td>\n",
       "        <td>pro annual</td>\n",
       "        <td>199</td>\n",
       "    </tr>\n",
       "    <tr>\n",
       "        <td>18</td>\n",
       "        <td>2</td>\n",
       "        <td>2020-07-13</td>\n",
       "        <td>2</td>\n",
       "        <td>pro monthly</td>\n",
       "        <td>19.9</td>\n",
       "    </tr>\n",
       "    <tr>\n",
       "        <td>19</td>\n",
       "        <td>2</td>\n",
       "        <td>2020-06-29</td>\n",
       "        <td>2</td>\n",
       "        <td>pro monthly</td>\n",
       "        <td>19.9</td>\n",
       "    </tr>\n",
       "    <tr>\n",
       "        <td>19</td>\n",
       "        <td>3</td>\n",
       "        <td>2020-08-29</td>\n",
       "        <td>3</td>\n",
       "        <td>pro annual</td>\n",
       "        <td>199</td>\n",
       "    </tr>\n",
       "</table>"
      ],
      "text/plain": [
       "[(1, 1, '2020-08-08', 1, 'basic monthly', 9.9),\n",
       " (2, 3, '2020-09-27', 3, 'pro annual', 199),\n",
       " (13, 1, '2020-12-22', 1, 'basic monthly', 9.9),\n",
       " (13, 2, '2021-03-29', 2, 'pro monthly', 19.9),\n",
       " (15, 2, '2020-03-24', 2, 'pro monthly', 19.9),\n",
       " (16, 1, '2020-06-07', 1, 'basic monthly', 9.9),\n",
       " (16, 3, '2020-10-21', 3, 'pro annual', 199),\n",
       " (18, 2, '2020-07-13', 2, 'pro monthly', 19.9),\n",
       " (19, 2, '2020-06-29', 2, 'pro monthly', 19.9),\n",
       " (19, 3, '2020-08-29', 3, 'pro annual', 199)]"
      ]
     },
     "execution_count": 14,
     "metadata": {},
     "output_type": "execute_result"
    }
   ],
   "source": [
    "%%sql\n",
    "\n",
    "SELECT *\n",
    "FROM subscriptions AS s\n",
    "INNER JOIN plans AS p ON s.plan_id = p.plan_id\n",
    "WHERE plan_name IN ('basic monthly', 'pro monthly', 'pro annual')\n",
    "ORDER BY customer_id, start_date"
   ]
  },
  {
   "cell_type": "markdown",
   "id": "086ed8f9",
   "metadata": {},
   "source": [
    "Of the 8 unique customers who signed up for the streaming service, 2 decided to leave. Customer 11 churned immediately and no further plans were bought, while Customer 15 bought 1 month of pro monthly before leaving.\n",
    "\n",
    "Pro monthly plans were popular, with 4 customers opting for this service. Of these 8 customers, Customer 19 graduated to the pro annual service. Three customers bought the pro annual service. While one bought it straight after the trial (2), the other bought it after being a basic member for 4 months (16). \n",
    "\n",
    "Basic monthly plans were purchased by 3 clients, of whom 2 then purchased the pro monthly plans."
   ]
  },
  {
   "cell_type": "code",
   "execution_count": null,
   "id": "989e7685",
   "metadata": {},
   "outputs": [],
   "source": []
  },
  {
   "cell_type": "code",
   "execution_count": 11,
   "id": "46eec8be",
   "metadata": {},
   "outputs": [
    {
     "name": "stdout",
     "output_type": "stream",
     "text": [
      "[13, 2]\n"
     ]
    }
   ],
   "source": [
    "customers = [1, 2, 11, 13, 15, 16, 18, 19]\n",
    "import random\n",
    "which_customers_to_talk_about = random.sample(customers, 2)\n",
    "print(which_customers_to_talk_about)"
   ]
  },
  {
   "cell_type": "markdown",
   "id": "20f896fb",
   "metadata": {},
   "source": [
    "Customer 16 started their trial on 2020-05-31. After the free trial ended on 2020-06-07, they started the basic monthly service at 9.90. Around 4 months later on 2020-10-21 they started the pro annual plan at 199. So in total their transactions add up to 238.6."
   ]
  },
  {
   "cell_type": "markdown",
   "id": "bd14a4ce",
   "metadata": {},
   "source": [
    "Customer 11 started their weeklong free trial on 2020-11-19. They got in contact with the company to cancel any further transactions and churned out on the 2020-11-26."
   ]
  },
  {
   "cell_type": "code",
   "execution_count": null,
   "id": "23852009",
   "metadata": {},
   "outputs": [],
   "source": []
  }
 ],
 "metadata": {
  "kernelspec": {
   "display_name": "Python 3 (ipykernel)",
   "language": "python",
   "name": "python3"
  },
  "language_info": {
   "codemirror_mode": {
    "name": "ipython",
    "version": 3
   },
   "file_extension": ".py",
   "mimetype": "text/x-python",
   "name": "python",
   "nbconvert_exporter": "python",
   "pygments_lexer": "ipython3",
   "version": "3.9.7"
  }
 },
 "nbformat": 4,
 "nbformat_minor": 5
}
