{
 "cells": [
  {
   "cell_type": "markdown",
   "id": "69aa05e1",
   "metadata": {},
   "source": [
    "## <a href = 'https://8weeksqlchallenge.com/case-study-2/'>Pizza Runner</a>\n",
    "\n",
    "#### Introduction\n",
    "\n",
    "<img src = 'https://8weeksqlchallenge.com/images/case-study-designs/2.png'>\n",
    "\n",
    "<br>\n",
    "\n",
    "Did you know that over 115 million kilograms of pizza is consumed daily worldwide??? (Well according to Wikipedia anyway…)\n",
    "\n",
    "Danny was scrolling through his Instagram feed when something really caught his eye - “80s Retro Styling and Pizza Is The Future!”\n",
    "\n",
    "Danny was sold on the idea, but he knew that pizza alone was not going to help him get seed funding to expand his new Pizza Empire - so he had one more genius idea to combine with it - he was going to Uberize it - and so Pizza Runner was launched!\n",
    "\n",
    "Danny started by recruiting “runners” to deliver fresh pizza from Pizza Runner Headquarters (otherwise known as Danny’s house) and also maxed out his credit card to pay freelance developers to build a mobile app to accept orders from customers.\n",
    "\n",
    "#### Case Study Questions - Part A\n",
    "\n",
    "1. How many pizzas were ordered?\n",
    "2. How many unique customer orders were made?\n",
    "3. How many successful orders were delivered by each runner?\n",
    "4. How many of each type of pizza was delivered?\n",
    "5. How many Vegetarian and Meatlovers were ordered by each customer?\n",
    "6. What was the maximum number of pizzas delivered in a single order?\n",
    "7. For each customer, how many delivered pizzas had at least 1 change and how many had no changes?\n",
    "8. How many pizzas were delivered that had both exclusions and extras?\n",
    "9. What was the total volume of pizzas ordered for each hour of the day?\n",
    "10. What was the volume of orders for each day of the week?"
   ]
  },
  {
   "cell_type": "code",
   "execution_count": 1,
   "id": "ecd445ca",
   "metadata": {},
   "outputs": [],
   "source": [
    "import sql\n",
    "from sqlalchemy import create_engine\n",
    "\n",
    "\n",
    "%load_ext sql\n",
    "%sql sqlite://"
   ]
  },
  {
   "cell_type": "markdown",
   "id": "444b3d75",
   "metadata": {},
   "source": [
    "Tables as per link above"
   ]
  },
  {
   "cell_type": "code",
   "execution_count": 2,
   "id": "48f413f9",
   "metadata": {},
   "outputs": [
    {
     "name": "stdout",
     "output_type": "stream",
     "text": [
      " * sqlite://\n",
      "Done.\n",
      "Done.\n",
      "10 rows affected.\n"
     ]
    },
    {
     "data": {
      "text/plain": [
       "[]"
      ]
     },
     "execution_count": 2,
     "metadata": {},
     "output_type": "execute_result"
    }
   ],
   "source": [
    "%%sql\n",
    "DROP TABLE IF EXISTS runner_orders;\n",
    "CREATE TABLE runner_orders(\"order_id\" INTEGER,\n",
    "                           \"runner_id\" INTEGER,\n",
    "                           \"pickup_time\" VARCHAR(19),\n",
    "                           \"distance\" VARCHAR(7),\n",
    "                           \"duration\" VARCHAR(10),\n",
    "                           \"cancellation\" VARCHAR(23)\n",
    ");\n",
    "\n",
    "INSERT INTO runner_orders\n",
    "    (\"order_id\", \"runner_id\", \"pickup_time\", \"distance\", \"duration\", \"cancellation\")\n",
    "VALUES\n",
    "    (1, 1, \"2021-01-01 18:15:34\", \"20km\", \"32 minutes\", \"\"),\n",
    "    (2, 1, \"2021-01-01 19:10:54\", \"20km\", \"27 minutes\", \"\"),\n",
    "    (3, 1, \"2021-01-03 00:12:37\", \"13.4km\", \"20 mins\", NULL),\n",
    "    (4, 2, \"2021-01-04 13:53:03\", \"23.4\", \"40\", NULL),\n",
    "    (5, 3, \"2021-01-08 21:10:57\", \"10\", \"15\", NULL),\n",
    "    (6, 3, null, null, null, \"Restaurant Cancellation\"),\n",
    "    (7, 2, \"2020-01-08 21:30:45\", \"25km\", \"25mins\", null),\n",
    "    (8, 2, \"2020-01-10 00:15:02\", \"23.4 km\", \"15 minute\", null),\n",
    "    (9, 2, null, null, null, \"Customer Cancellation\"),\n",
    "    (10, 1, \"2020-01-11 18:50:20\", \"10km\", \"10minutes\", null);"
   ]
  },
  {
   "cell_type": "code",
   "execution_count": 3,
   "id": "764d46d0",
   "metadata": {},
   "outputs": [
    {
     "name": "stdout",
     "output_type": "stream",
     "text": [
      " * sqlite://\n",
      "Done.\n",
      "Done.\n",
      "4 rows affected.\n"
     ]
    },
    {
     "data": {
      "text/plain": [
       "[]"
      ]
     },
     "execution_count": 3,
     "metadata": {},
     "output_type": "execute_result"
    }
   ],
   "source": [
    "%%sql\n",
    "DROP TABLE IF EXISTS runners;\n",
    "CREATE TABLE runners(\"runner_id\" INTEGER,\n",
    "                     \"registration_date\" DATE);\n",
    "INSERT INTO runners\n",
    "    (\"runner_id\", \"registration_date\")\n",
    "VALUES\n",
    "    (1, 2021-01-01),\n",
    "    (2, 2021-01-03),\n",
    "    (3, 2021-01-08),\n",
    "    (4, 2021-01-15);"
   ]
  },
  {
   "cell_type": "code",
   "execution_count": 61,
   "id": "eb98faa2",
   "metadata": {},
   "outputs": [
    {
     "name": "stdout",
     "output_type": "stream",
     "text": [
      " * sqlite://\n",
      "Done.\n",
      "Done.\n",
      "14 rows affected.\n"
     ]
    },
    {
     "data": {
      "text/plain": [
       "[]"
      ]
     },
     "execution_count": 61,
     "metadata": {},
     "output_type": "execute_result"
    }
   ],
   "source": [
    "%%sql\n",
    "DROP TABLE IF EXISTS customer_orders;\n",
    "CREATE TABLE customer_orders(\"order_id\" INTEGER,\n",
    "                             \"customer_id\" INTEGER,\n",
    "                             \"pizza_id\" INTEGER,\n",
    "                             \"exclusions\" VARCHAR(4),\n",
    "                             \"extras\" VARCHAR(4),\n",
    "                             \"order_time\" TIMESTAMP);\n",
    "INSERT INTO customer_orders\n",
    "    (\"order_id\", \"customer_id\", \"pizza_id\", \"exclusions\", \"extras\", \"order_time\")\n",
    "VALUES\n",
    "    (1,  101, 1, \" \", \" \", \"2021-01-01 18:05:02\"),\n",
    "    (2,  101, 1, \" \", \" \", \"2021-01-01 19:00:52\"),\n",
    "    (3,  102, 1, \" \", \" \", \"2021-01-02 23:51:23\"),\n",
    "    (3,  102, 2, \" \", null, \"2021-01-02 23:51:23\"),\n",
    "    (4,  103, 1, \"4\", \" \", \"2021-01-04 13:23:46\"),\n",
    "    (4,  103, 1, \"4\", \" \", \"2021-01-04 13:23:46\"),\n",
    "    (4,  103, 2, \"4\", \" \", \"2021-01-04 13:23:46\"),\n",
    "    (5,  104, 1, null, 1, \"2021-01-08 21:00:29\"),\n",
    "    (6,  101, 2, null, null, \"2021-01-08 21:03:13\"),\n",
    "    (7,  105, 2, null, 1, \"2021-01-08 21:20:29\"),\n",
    "    (8,  102, 1, null, null, \"2021-01-09 23:54:33\"),\n",
    "    (9,  103, 1, \"4\", \"1, 5\", \"2021-01-10 11:22:59\"),\n",
    "    (10, 104, 1, null, null, \"2021-01-11 18:34:49\"),\n",
    "    (10, 104, 1, \"2, 6\", \"1, 4\", \"2021-01-11 18:34:49\");"
   ]
  },
  {
   "cell_type": "code",
   "execution_count": 5,
   "id": "c7dd0856",
   "metadata": {},
   "outputs": [
    {
     "name": "stdout",
     "output_type": "stream",
     "text": [
      " * sqlite://\n",
      "Done.\n",
      "Done.\n",
      "2 rows affected.\n"
     ]
    },
    {
     "data": {
      "text/plain": [
       "[]"
      ]
     },
     "execution_count": 5,
     "metadata": {},
     "output_type": "execute_result"
    }
   ],
   "source": [
    "%%sql\n",
    "DROP TABLE IF EXISTS pizza_names;\n",
    "CREATE TABLE pizza_names (\"pizza_id\" INTEGER,\n",
    "                          \"pizza_name\" TEXT);\n",
    "INSERT INTO pizza_names (\"pizza_id\", \"pizza_name\")\n",
    "VALUES \n",
    "    (1, 'Meatlovers'),\n",
    "    (2, 'Vegetarian');"
   ]
  },
  {
   "cell_type": "code",
   "execution_count": 6,
   "id": "6bb8fedc",
   "metadata": {},
   "outputs": [
    {
     "name": "stdout",
     "output_type": "stream",
     "text": [
      " * sqlite://\n",
      "Done.\n",
      "Done.\n",
      "2 rows affected.\n"
     ]
    },
    {
     "data": {
      "text/plain": [
       "[]"
      ]
     },
     "execution_count": 6,
     "metadata": {},
     "output_type": "execute_result"
    }
   ],
   "source": [
    "%%sql\n",
    "DROP TABLE IF EXISTS pizza_recipes;\n",
    "CREATE TABLE pizza_recipes(\"pizza_id\" INTEGER,\n",
    "                           \"toppings\" TEXT);\n",
    "INSERT INTO pizza_recipes(\"pizza_id\", \"toppings\")\n",
    "VALUES\n",
    "    (1, \"1, 2, 3, 4, 5, 6, 8, 10\"),\n",
    "    (2, \"4, 6, 7, 9, 11, 12\");"
   ]
  },
  {
   "cell_type": "code",
   "execution_count": 7,
   "id": "55022849",
   "metadata": {},
   "outputs": [
    {
     "name": "stdout",
     "output_type": "stream",
     "text": [
      " * sqlite://\n",
      "Done.\n",
      "Done.\n",
      "12 rows affected.\n"
     ]
    },
    {
     "data": {
      "text/plain": [
       "[]"
      ]
     },
     "execution_count": 7,
     "metadata": {},
     "output_type": "execute_result"
    }
   ],
   "source": [
    "%%sql\n",
    "DROP TABLE IF EXISTS pizza_toppings;\n",
    "CREATE TABLE pizza_toppings(\"topping_id\" INTEGER,\n",
    "                            \"topping_name\" TEXT);\n",
    "INSERT INTO pizza_toppings(\"topping_id\", \"topping_name\")\n",
    "VALUES\n",
    "    (1, \"Bacon\"),\n",
    "    (2, \"BBQ Sauce\"),\n",
    "    (3, \"Beef\"),\n",
    "    (4, \"Cheese\"),\n",
    "    (5, \"Chicken\"),\n",
    "    (6, \"Mushrooms\"),\n",
    "    (7, \"Onions\"),\n",
    "    (8, \"Pepperoni\"),\n",
    "    (9, \"Peppers\"),\n",
    "    (10, \"Salami\"),\n",
    "    (11, \"Tomatoes\"),\n",
    "    (12, \"Tomato Sauce\");"
   ]
  },
  {
   "cell_type": "markdown",
   "id": "cdf93626",
   "metadata": {},
   "source": [
    "1. How many pizzas were ordered?"
   ]
  },
  {
   "cell_type": "code",
   "execution_count": 8,
   "id": "e44ca65d",
   "metadata": {},
   "outputs": [
    {
     "name": "stdout",
     "output_type": "stream",
     "text": [
      " * sqlite://\n",
      "Done.\n"
     ]
    },
    {
     "data": {
      "text/html": [
       "<table>\n",
       "    <tr>\n",
       "        <th>number_pizza</th>\n",
       "    </tr>\n",
       "    <tr>\n",
       "        <td>14</td>\n",
       "    </tr>\n",
       "</table>"
      ],
      "text/plain": [
       "[(14,)]"
      ]
     },
     "execution_count": 8,
     "metadata": {},
     "output_type": "execute_result"
    }
   ],
   "source": [
    "%%sql\n",
    "\n",
    "SELECT COUNT(pizza_id) as number_pizza\n",
    "FROM customer_orders"
   ]
  },
  {
   "cell_type": "markdown",
   "id": "84d05951",
   "metadata": {},
   "source": [
    "2. How many unique customer orders were made?"
   ]
  },
  {
   "cell_type": "code",
   "execution_count": 9,
   "id": "1a2ed97a",
   "metadata": {},
   "outputs": [
    {
     "name": "stdout",
     "output_type": "stream",
     "text": [
      " * sqlite://\n",
      "Done.\n"
     ]
    },
    {
     "data": {
      "text/html": [
       "<table>\n",
       "    <tr>\n",
       "        <th>unique_customers</th>\n",
       "    </tr>\n",
       "    <tr>\n",
       "        <td>10</td>\n",
       "    </tr>\n",
       "</table>"
      ],
      "text/plain": [
       "[(10,)]"
      ]
     },
     "execution_count": 9,
     "metadata": {},
     "output_type": "execute_result"
    }
   ],
   "source": [
    "%%sql\n",
    "SELECT COUNT(DISTINCT order_id) as unique_customers\n",
    "FROM customer_orders"
   ]
  },
  {
   "cell_type": "markdown",
   "id": "27b436c4",
   "metadata": {},
   "source": [
    "3. How many successful orders were delivered by each runner?"
   ]
  },
  {
   "cell_type": "code",
   "execution_count": 10,
   "id": "b0783bee",
   "metadata": {},
   "outputs": [
    {
     "name": "stdout",
     "output_type": "stream",
     "text": [
      " * sqlite://\n",
      "Done.\n"
     ]
    },
    {
     "data": {
      "text/html": [
       "<table>\n",
       "    <tr>\n",
       "        <th>runner_id</th>\n",
       "        <th>deliveries</th>\n",
       "    </tr>\n",
       "    <tr>\n",
       "        <td>1</td>\n",
       "        <td>4</td>\n",
       "    </tr>\n",
       "    <tr>\n",
       "        <td>2</td>\n",
       "        <td>3</td>\n",
       "    </tr>\n",
       "    <tr>\n",
       "        <td>3</td>\n",
       "        <td>1</td>\n",
       "    </tr>\n",
       "</table>"
      ],
      "text/plain": [
       "[(1, 4), (2, 3), (3, 1)]"
      ]
     },
     "execution_count": 10,
     "metadata": {},
     "output_type": "execute_result"
    }
   ],
   "source": [
    "%%sql\n",
    "\n",
    "SELECT runner_id,\n",
    "    COUNT(order_id) as deliveries\n",
    "FROM runner_orders\n",
    "WHERE distance > 0\n",
    "GROUP BY runner_id"
   ]
  },
  {
   "cell_type": "markdown",
   "id": "7f757941",
   "metadata": {},
   "source": [
    "4. How many of each type of pizza was delivered?"
   ]
  },
  {
   "cell_type": "code",
   "execution_count": 11,
   "id": "b321bb95",
   "metadata": {},
   "outputs": [
    {
     "name": "stdout",
     "output_type": "stream",
     "text": [
      " * sqlite://\n",
      "Done.\n"
     ]
    },
    {
     "data": {
      "text/html": [
       "<table>\n",
       "    <tr>\n",
       "        <th>pizza_name</th>\n",
       "        <th>delivered</th>\n",
       "    </tr>\n",
       "    <tr>\n",
       "        <td>Meatlovers</td>\n",
       "        <td>9</td>\n",
       "    </tr>\n",
       "    <tr>\n",
       "        <td>Vegetarian</td>\n",
       "        <td>3</td>\n",
       "    </tr>\n",
       "</table>"
      ],
      "text/plain": [
       "[('Meatlovers', 9), ('Vegetarian', 3)]"
      ]
     },
     "execution_count": 11,
     "metadata": {},
     "output_type": "execute_result"
    }
   ],
   "source": [
    "%%sql\n",
    "\n",
    "SELECT \n",
    "    pizza_name,\n",
    "    COUNT(customer_orders.pizza_id) AS delivered\n",
    "FROM customer_orders\n",
    "JOIN runner_orders\n",
    "    ON customer_orders.order_id = runner_orders.order_id\n",
    "JOIN pizza_names\n",
    "    ON customer_orders.pizza_id = pizza_names.pizza_id\n",
    "WHERE distance > 0\n",
    "GROUP BY pizza_name"
   ]
  },
  {
   "cell_type": "markdown",
   "id": "01d2c178",
   "metadata": {},
   "source": [
    "5. How many Vegetarian and Meatlovers were ordered by each customer?"
   ]
  },
  {
   "cell_type": "code",
   "execution_count": 12,
   "id": "698a022e",
   "metadata": {},
   "outputs": [
    {
     "name": "stdout",
     "output_type": "stream",
     "text": [
      " * sqlite://\n",
      "Done.\n"
     ]
    },
    {
     "data": {
      "text/html": [
       "<table>\n",
       "    <tr>\n",
       "        <th>customer_id</th>\n",
       "        <th>pizza_name</th>\n",
       "        <th>how_many_pizzas</th>\n",
       "    </tr>\n",
       "    <tr>\n",
       "        <td>101</td>\n",
       "        <td>Meatlovers</td>\n",
       "        <td>2</td>\n",
       "    </tr>\n",
       "    <tr>\n",
       "        <td>101</td>\n",
       "        <td>Vegetarian</td>\n",
       "        <td>1</td>\n",
       "    </tr>\n",
       "    <tr>\n",
       "        <td>102</td>\n",
       "        <td>Meatlovers</td>\n",
       "        <td>2</td>\n",
       "    </tr>\n",
       "    <tr>\n",
       "        <td>102</td>\n",
       "        <td>Vegetarian</td>\n",
       "        <td>1</td>\n",
       "    </tr>\n",
       "    <tr>\n",
       "        <td>103</td>\n",
       "        <td>Meatlovers</td>\n",
       "        <td>3</td>\n",
       "    </tr>\n",
       "    <tr>\n",
       "        <td>103</td>\n",
       "        <td>Vegetarian</td>\n",
       "        <td>1</td>\n",
       "    </tr>\n",
       "    <tr>\n",
       "        <td>104</td>\n",
       "        <td>Meatlovers</td>\n",
       "        <td>3</td>\n",
       "    </tr>\n",
       "    <tr>\n",
       "        <td>105</td>\n",
       "        <td>Vegetarian</td>\n",
       "        <td>1</td>\n",
       "    </tr>\n",
       "</table>"
      ],
      "text/plain": [
       "[(101, 'Meatlovers', 2),\n",
       " (101, 'Vegetarian', 1),\n",
       " (102, 'Meatlovers', 2),\n",
       " (102, 'Vegetarian', 1),\n",
       " (103, 'Meatlovers', 3),\n",
       " (103, 'Vegetarian', 1),\n",
       " (104, 'Meatlovers', 3),\n",
       " (105, 'Vegetarian', 1)]"
      ]
     },
     "execution_count": 12,
     "metadata": {},
     "output_type": "execute_result"
    }
   ],
   "source": [
    "%%sql\n",
    "\n",
    "SELECT\n",
    "    customer_id,\n",
    "    p.pizza_name,\n",
    "    COUNT(p.pizza_name) AS how_many_pizzas\n",
    "FROM customer_orders AS c\n",
    "JOIN pizza_names AS p \n",
    "    ON c.pizza_id = p.pizza_id\n",
    "GROUP BY c.customer_id, p.pizza_name"
   ]
  },
  {
   "cell_type": "markdown",
   "id": "fad68756",
   "metadata": {},
   "source": [
    "6. What was the maximum number of pizzas delivered in a single order?"
   ]
  },
  {
   "cell_type": "code",
   "execution_count": 13,
   "id": "ef9f846b",
   "metadata": {},
   "outputs": [
    {
     "name": "stdout",
     "output_type": "stream",
     "text": [
      " * sqlite://\n",
      "Done.\n"
     ]
    },
    {
     "data": {
      "text/html": [
       "<table>\n",
       "    <tr>\n",
       "        <th>order_id</th>\n",
       "        <th>count</th>\n",
       "    </tr>\n",
       "    <tr>\n",
       "        <td>4</td>\n",
       "        <td>3</td>\n",
       "    </tr>\n",
       "</table>"
      ],
      "text/plain": [
       "[(4, 3)]"
      ]
     },
     "execution_count": 13,
     "metadata": {},
     "output_type": "execute_result"
    }
   ],
   "source": [
    "%%sql\n",
    "\n",
    "SELECT order_id, COUNT(order_id) AS count\n",
    "FROM customer_orders\n",
    "GROUP BY order_id\n",
    "ORDER BY count DESC\n",
    "LIMIT 1;"
   ]
  },
  {
   "cell_type": "markdown",
   "id": "fbee6a90",
   "metadata": {},
   "source": [
    "7. For each customer, how many delivered pizzas had at least 1 change and how many had no changes?"
   ]
  },
  {
   "cell_type": "code",
   "execution_count": 30,
   "id": "e5648b42",
   "metadata": {},
   "outputs": [
    {
     "name": "stdout",
     "output_type": "stream",
     "text": [
      " * sqlite://\n",
      "Done.\n"
     ]
    },
    {
     "data": {
      "text/html": [
       "<table>\n",
       "    <tr>\n",
       "        <th>customer_id</th>\n",
       "        <th>atleast1change</th>\n",
       "        <th>nochange</th>\n",
       "    </tr>\n",
       "    <tr>\n",
       "        <td>101</td>\n",
       "        <td>0</td>\n",
       "        <td>2</td>\n",
       "    </tr>\n",
       "    <tr>\n",
       "        <td>102</td>\n",
       "        <td>0</td>\n",
       "        <td>2</td>\n",
       "    </tr>\n",
       "    <tr>\n",
       "        <td>103</td>\n",
       "        <td>3</td>\n",
       "        <td>2</td>\n",
       "    </tr>\n",
       "    <tr>\n",
       "        <td>104</td>\n",
       "        <td>2</td>\n",
       "        <td>0</td>\n",
       "    </tr>\n",
       "    <tr>\n",
       "        <td>105</td>\n",
       "        <td>1</td>\n",
       "        <td>0</td>\n",
       "    </tr>\n",
       "</table>"
      ],
      "text/plain": [
       "[(101, 0, 2), (102, 0, 2), (103, 3, 2), (104, 2, 0), (105, 1, 0)]"
      ]
     },
     "execution_count": 30,
     "metadata": {},
     "output_type": "execute_result"
    }
   ],
   "source": [
    "%%sql\n",
    "\n",
    "SELECT \n",
    "    customer_id,\n",
    "    SUM(CASE WHEN exclusions != ' ' OR extras != ' '\n",
    "            THEN 1\n",
    "            ELSE 0\n",
    "            END) AS atleast1change,\n",
    "    SUM(CASE WHEN exclusions = ' ' OR extras = ' ' \n",
    "             THEN 1\n",
    "             ELSE 0\n",
    "             END) as nochange\n",
    "FROM customer_orders AS c\n",
    "JOIN runner_orders AS r\n",
    "    ON c.order_id = r.order_id\n",
    "GROUP BY customer_id;"
   ]
  },
  {
   "cell_type": "markdown",
   "id": "f490f1dd",
   "metadata": {},
   "source": [
    "8. How many pizzas were delivered that had both exclusions and extras?"
   ]
  },
  {
   "cell_type": "code",
   "execution_count": 36,
   "id": "66230d25",
   "metadata": {},
   "outputs": [
    {
     "name": "stdout",
     "output_type": "stream",
     "text": [
      " * sqlite://\n",
      "Done.\n"
     ]
    },
    {
     "data": {
      "text/html": [
       "<table>\n",
       "    <tr>\n",
       "        <th>fussy_eaters</th>\n",
       "    </tr>\n",
       "    <tr>\n",
       "        <td>1</td>\n",
       "    </tr>\n",
       "</table>"
      ],
      "text/plain": [
       "[(1,)]"
      ]
     },
     "execution_count": 36,
     "metadata": {},
     "output_type": "execute_result"
    }
   ],
   "source": [
    "%%sql\n",
    "\n",
    "SELECT\n",
    "    COUNT(CASE WHEN exclusions IS NOT NULL AND extras IS NOT NULL\n",
    "               THEN 1\n",
    "               ELSE 0\n",
    "               END) AS fussy_eaters\n",
    "FROM customer_orders AS c\n",
    "JOIN runner_orders AS r\n",
    "    ON c.order_id = r.order_id\n",
    "WHERE distance > 0\n",
    "    AND exclusions != ' '\n",
    "    AND extras != ' ';"
   ]
  },
  {
   "cell_type": "markdown",
   "id": "8bdc7b5b",
   "metadata": {},
   "source": [
    "9. What was the total volume of pizzas ordered for each hour of the day?\n",
    "\n",
    "Please note, this solution includes all orders, including orders that were cancelled for whatever reason. include 'WHERE cancellation IS NULL' to get around this."
   ]
  },
  {
   "cell_type": "code",
   "execution_count": 63,
   "id": "2e894993",
   "metadata": {},
   "outputs": [
    {
     "name": "stdout",
     "output_type": "stream",
     "text": [
      " * sqlite://\n",
      "Done.\n"
     ]
    },
    {
     "data": {
      "text/html": [
       "<table>\n",
       "    <tr>\n",
       "        <th>orders</th>\n",
       "        <th>hour</th>\n",
       "    </tr>\n",
       "    <tr>\n",
       "        <td>1</td>\n",
       "        <td>11</td>\n",
       "    </tr>\n",
       "    <tr>\n",
       "        <td>3</td>\n",
       "        <td>13</td>\n",
       "    </tr>\n",
       "    <tr>\n",
       "        <td>3</td>\n",
       "        <td>18</td>\n",
       "    </tr>\n",
       "    <tr>\n",
       "        <td>1</td>\n",
       "        <td>19</td>\n",
       "    </tr>\n",
       "    <tr>\n",
       "        <td>3</td>\n",
       "        <td>21</td>\n",
       "    </tr>\n",
       "    <tr>\n",
       "        <td>3</td>\n",
       "        <td>23</td>\n",
       "    </tr>\n",
       "</table>"
      ],
      "text/plain": [
       "[(1, '11'), (3, '13'), (3, '18'), (1, '19'), (3, '21'), (3, '23')]"
      ]
     },
     "execution_count": 63,
     "metadata": {},
     "output_type": "execute_result"
    }
   ],
   "source": [
    "%%sql\n",
    "\n",
    "SELECT count(c.order_id) as orders,\n",
    "    strftime('%H', order_time) as hour\n",
    "FROM customer_orders AS c\n",
    "JOIN runner_orders AS r\n",
    "    ON c.order_id = r.order_id\n",
    "\n",
    "GROUP BY hour\n",
    "ORDER BY hour;"
   ]
  },
  {
   "cell_type": "markdown",
   "id": "346e8907",
   "metadata": {},
   "source": [
    "10. What was the volume of orders for each day of the week? <a href = 'https://www.sqlitetutorial.net/sqlite-date-functions/sqlite-strftime-function/'>help here</a>. Reminder Sunday = 0, Monday= 1, Tuesday = 2 "
   ]
  },
  {
   "cell_type": "code",
   "execution_count": 69,
   "id": "83cbafe2",
   "metadata": {},
   "outputs": [
    {
     "name": "stdout",
     "output_type": "stream",
     "text": [
      " * sqlite://\n",
      "Done.\n"
     ]
    },
    {
     "data": {
      "text/html": [
       "<table>\n",
       "    <tr>\n",
       "        <th>orders</th>\n",
       "        <th>day</th>\n",
       "    </tr>\n",
       "    <tr>\n",
       "        <td>1</td>\n",
       "        <td>0</td>\n",
       "    </tr>\n",
       "    <tr>\n",
       "        <td>5</td>\n",
       "        <td>1</td>\n",
       "    </tr>\n",
       "    <tr>\n",
       "        <td>5</td>\n",
       "        <td>5</td>\n",
       "    </tr>\n",
       "    <tr>\n",
       "        <td>3</td>\n",
       "        <td>6</td>\n",
       "    </tr>\n",
       "</table>"
      ],
      "text/plain": [
       "[(1, '0'), (5, '1'), (5, '5'), (3, '6')]"
      ]
     },
     "execution_count": 69,
     "metadata": {},
     "output_type": "execute_result"
    }
   ],
   "source": [
    "%%sql\n",
    "\n",
    "SELECT count(c.order_id) AS orders,\n",
    "    strftime('%w', order_time) as day\n",
    "FROM customer_orders AS c\n",
    "GROUP BY day\n",
    "ORDER BY day;"
   ]
  },
  {
   "cell_type": "code",
   "execution_count": null,
   "id": "2dc194a0",
   "metadata": {},
   "outputs": [],
   "source": []
  }
 ],
 "metadata": {
  "kernelspec": {
   "display_name": "Python 3 (ipykernel)",
   "language": "python",
   "name": "python3"
  },
  "language_info": {
   "codemirror_mode": {
    "name": "ipython",
    "version": 3
   },
   "file_extension": ".py",
   "mimetype": "text/x-python",
   "name": "python",
   "nbconvert_exporter": "python",
   "pygments_lexer": "ipython3",
   "version": "3.9.7"
  }
 },
 "nbformat": 4,
 "nbformat_minor": 5
}
